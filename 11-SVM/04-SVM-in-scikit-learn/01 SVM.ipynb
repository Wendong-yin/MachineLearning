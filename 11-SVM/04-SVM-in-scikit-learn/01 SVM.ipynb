{
 "cells": [
  {
   "cell_type": "markdown",
   "metadata": {},
   "source": [
    "## 支撑向量机 Support Vector Machine"
   ]
  },
  {
   "cell_type": "markdown",
   "metadata": {},
   "source": [
    "SVM 既可以解决回归，也可以解决分类问题。\n",
    "\n",
    "## 一、决策边界的不适定问题\n",
    "对于二分类问题，决策边界可能有多种情况，我们管他叫**不适定问题**\n",
    "![IMAGE](https://farm2.staticflickr.com/1726/41075035920_59f309fbf1_o.png)\n",
    "### 1 逻辑回归不适定问题的解决方法\n",
    "定义了一个概率函数（Sigmoid 函数），建立一个损失函数，然后最小化损失函数，从而求出一个决策边界。（这个边界，完全由训练数据集决定）\n",
    "\n",
    "### 2 SVM 的解决方法\n",
    "#### 理想的决策边界\n",
    "我们希望一个『泛化能力』很强的模型，对test 数据集有很强的预测性，显然，这个点应该是红色，而不是蓝色。\n",
    "![IMAGE](https://farm2.staticflickr.com/1765/42837035062_f4af7406a8_o.png)\n",
    "\n",
    "![IMAGE](https://farm2.staticflickr.com/1760/28016398027_ef52d63f52_o.png)\n",
    "我们希望：离决策边界比较近的红色的点尽可能远，同时离蓝色的点也尽可能远。\n",
    "\n",
    "##### SVM 的分类\n",
    "（1）严格线性不可分 Hard Margin SVM\n",
    "（2）宽松闲心更不可分 Soft Margin SVM"
   ]
  },
  {
   "cell_type": "markdown",
   "metadata": {},
   "source": [
    "## 二、"
   ]
  }
 ],
 "metadata": {
  "kernelspec": {
   "display_name": "Python 3",
   "language": "python",
   "name": "python3"
  },
  "language_info": {
   "codemirror_mode": {
    "name": "ipython",
    "version": 3
   },
   "file_extension": ".py",
   "mimetype": "text/x-python",
   "name": "python",
   "nbconvert_exporter": "python",
   "pygments_lexer": "ipython3",
   "version": "3.5.4"
  }
 },
 "nbformat": 4,
 "nbformat_minor": 2
}
