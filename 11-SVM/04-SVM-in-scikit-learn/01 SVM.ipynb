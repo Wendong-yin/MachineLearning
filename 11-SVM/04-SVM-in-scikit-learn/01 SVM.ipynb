{
 "cells": [
  {
   "cell_type": "markdown",
   "metadata": {},
   "source": [
    "## 支撑向量机 Support Vector Machine"
   ]
  },
  {
   "cell_type": "markdown",
   "metadata": {},
   "source": [
    "SVM 既可以解决回归，也可以解决分类问题。\n",
    "\n",
    "## 一、决策边界的不适定问题\n",
    "对于二分类问题，决策边界可能有多种情况，我们管他叫**不适定问题**\n",
    "![IMAGE](https://farm2.staticflickr.com/1726/41075035920_59f309fbf1_o.png)\n",
    "### 1 逻辑回归不适定问题的解决方法\n",
    "定义了一个概率函数（Sigmoid 函数），建立一个损失函数，然后最小化损失函数，从而求出一个决策边界。（这个边界，完全由训练数据集决定）\n",
    "\n",
    "### 2 SVM 的解决方法\n",
    "#### 理想的决策边界\n",
    "我们希望一个『泛化能力』很强的模型，对test 数据集有很强的预测性，显然，这个点应该是红色，而不是蓝色。\n",
    "![IMAGE](https://farm2.staticflickr.com/1765/42837035062_f4af7406a8_o.png)\n",
    "\n",
    "![IMAGE](https://farm2.staticflickr.com/1760/28016398027_ef52d63f52_o.png)\n",
    "我们希望：离决策边界比较近的红色的点尽可能远，同时离蓝色的点也尽可能远。\n",
    "\n",
    "##### SVM 的分类\n",
    "（1）严格线性不可分 Hard Margin SVM\n",
    "（2）宽松闲心更不可分 Soft Margin SVM"
   ]
  },
  {
   "cell_type": "markdown",
   "metadata": {},
   "source": [
    "## 二、SVM背后的最优化问题\n",
    "n 维空间中点到直线的距离\n",
    "![IMAGE](https://farm2.staticflickr.com/1761/42167342124_0d0ddcf805_o.png)\n",
    "\n",
    "之前是0 1 分类，现在我们改成 -1 和1\n",
    "\n",
    "![IMAGE](https://farm1.staticflickr.com/875/28016721617_92ce31cbc3_o.png)\n",
    "\n",
    "两边同时除以 距离d\n",
    "![IMAGE](https://farm1.staticflickr.com/892/28016735767_036588364a_o.png)\n",
    "\n",
    "w 是一个 n 维向量，但是||w||是一个具体的数字，d 也是一个具体的数字，所以分母是一个具体的数字\n",
    "\n",
    "于是我们让$$W^{T}$$ 和 $$b$$ 同时除以分母，得到\n",
    "![IMAGE](https://farm2.staticflickr.com/1784/28016775437_50f5996274_o.png)\n",
    "\n",
    "这两个方程的可视化：\n",
    "![IMAGE](https://farm2.staticflickr.com/1722/42837436182_f9d6aa358d_o.png)\n",
    "\n",
    "中间这个实现，也可以同时除以分母，于是得到：\n",
    "![IMAGE](https://farm2.staticflickr.com/1828/41985308855_33f0c65861_o.png)\n",
    "\n",
    "但是为了方便，我们简化一下角标，虽然和之前的角标一样，但是数值发生了变化：\n",
    "![IMAGE](https://farm2.staticflickr.com/1801/29013645608_56c2727d77_o.png)\n",
    "\n",
    "把两个方程合并成一个：\n",
    "![IMAGE](https://farm1.staticflickr.com/900/29013660338_a36a8e7f2e_o.png)\n",
    "\n",
    "#### 目标函数\n",
    "支撑向量X：距离直线最近的那些点\n",
    "目标函数：支撑向量到直线的距离最大。分子是1保持不变（带入进去），最小化分母就好了\n",
    "![IMAGE](https://farm2.staticflickr.com/1827/41985614285_b686708b5f_o.png)\n",
    "\n",
    "总结：\n",
    "![IMAGE](https://farm2.staticflickr.com/1745/41985624535_b8e5ffe3b2_o.png)\n",
    "当有条件的最优化求解是一件很复杂的事情，需要引入**拉普拉斯算子**。\n",
    "\n"
   ]
  },
  {
   "cell_type": "markdown",
   "metadata": {},
   "source": [
    "### 三、Soft Margin SVM\n",
    "![IMAGE](https://farm2.staticflickr.com/1803/41987123975_7d987ba872_o.png)\n",
    "\n",
    "> 决策边界受到一个特殊点的影响非常大 → SVM 应该有一定的容错能力\n",
    "\n",
    "![IMAGE](https://farm2.staticflickr.com/1748/41077165110_cca57422c5_o.png)\n",
    "如果蓝色的点和红色的点混在了一起，就是一个**线性不可分的问题**。\n",
    "\n",
    "#### 1 添加容错空间 $\\xi$\n",
    "![IMAGE](https://farm2.staticflickr.com/1759/28018663587_482ba71cf0_o.png)\n",
    "之前的约束条件是 >=1，这意味着所有的支持向量都在 margin 外部，\n",
    "注意点1 ： 每一个点都有一个相应的容错空间 $\\xi_{i}$\n",
    "\n",
    "#### 2 平衡容错空间\n",
    "如果所有点都满足条件，那么这个虚线会在底下**很远的地方**，所以我们要添加容错空间，但是**容错空间要尽量小**。\n",
    "![IMAGE](https://farm2.staticflickr.com/1754/42169373454_668a353162_o.png)\n",
    "\n",
    "目标函数和容错空间的重要程度可能不太一样，所以我们可以添加一个系数\n",
    "![IMAGE](https://farm2.staticflickr.com/1762/41077305240_13a1ab889a_o.png)\n",
    "\n",
    "> 这个具体求解过程，很复杂，我们略去\n",
    "\n",
    "#### 3 正则化的再思考\n",
    "正则化是降低 overfitting， 换句话说就是**提高容错能力（泛化能力）**，让我们的模型，对极端的数据点不那么敏感。\n",
    "![IMAGE](https://farm2.staticflickr.com/1790/42887785941_23b0bd66af_o.png)\n",
    "\n",
    "与之前多项式回归对比：\n",
    "的目的是相同的\n",
    "\n",
    "1 $\\xi$ 与 $\\theta$的几何意义是不同的\n",
    "\n",
    "2 系数 C 的位置不同，但表意相同：都是 C 越大，容错空间越小。如果 C 无限大，但是我们目标取最小，$\\xi$只能取0，这意味着没有容错空间。"
   ]
  },
  {
   "cell_type": "code",
   "execution_count": null,
   "metadata": {},
   "outputs": [],
   "source": []
  }
 ],
 "metadata": {
  "kernelspec": {
   "display_name": "Python 3",
   "language": "python",
   "name": "python3"
  },
  "language_info": {
   "codemirror_mode": {
    "name": "ipython",
    "version": 3
   },
   "file_extension": ".py",
   "mimetype": "text/x-python",
   "name": "python",
   "nbconvert_exporter": "python",
   "pygments_lexer": "ipython3",
   "version": "3.5.4"
  }
 },
 "nbformat": 4,
 "nbformat_minor": 2
}
