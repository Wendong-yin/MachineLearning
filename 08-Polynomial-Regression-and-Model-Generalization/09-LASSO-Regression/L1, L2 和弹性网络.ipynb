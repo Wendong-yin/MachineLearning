{
 "cells": [
  {
   "cell_type": "markdown",
   "metadata": {},
   "source": [
    "## L1, L2 和弹性网络\n",
    "### 一、比较 Ridge 和 LASSO\n",
    "![IMAGE](https://farm2.staticflickr.com/1738/41959679115_a2bfaba8d3_o.png)"
   ]
  },
  {
   "cell_type": "markdown",
   "metadata": {},
   "source": [
    "### 二、Lp 范数\n",
    "引入：明科夫斯基距离：\n",
    "![IMAGE](https://farm2.staticflickr.com/1742/28987631098_d7128afd01_o.png)\n",
    "\n",
    "![IMAGE](https://farm2.staticflickr.com/1809/42142706074_3690ddde1c_o.png)\n",
    "\n",
    "#### L1 L2 正则项\n",
    "![IMAGE](https://farm2.staticflickr.com/1824/41959747675_a0ba5fbd2c_o.png)\n",
    "\n",
    "#### L0 正则项\n",
    "使 $\\theta$ 的个数尽量小。\n",
    "> 但 L0 正则很少使用，因为 L0 的优化是一个 NP hard 的问题。我们要穷举所有的 theta\n",
    "\n",
    "### 三、弹性网 Elastic Net\n",
    "在目标函数中同时引入 L1 和 L2正则项，并且引入一个 **比例 r** 。\n",
    "\n",
    "* 一般先使用 Ridge （L2）弹性网络，计算精准，运算效率低\n",
    "* 其次使用 弹性网\n",
    "* 最后使用 LASSO，因为会忽略某些 theta，会减少模型准确度\n"
   ]
  },
  {
   "cell_type": "code",
   "execution_count": null,
   "metadata": {
    "collapsed": true
   },
   "outputs": [],
   "source": []
  }
 ],
 "metadata": {
  "kernelspec": {
   "display_name": "Python 3",
   "language": "python",
   "name": "python3"
  },
  "language_info": {
   "codemirror_mode": {
    "name": "ipython",
    "version": 3
   },
   "file_extension": ".py",
   "mimetype": "text/x-python",
   "name": "python",
   "nbconvert_exporter": "python",
   "pygments_lexer": "ipython3",
   "version": "3.5.4"
  }
 },
 "nbformat": 4,
 "nbformat_minor": 2
}
