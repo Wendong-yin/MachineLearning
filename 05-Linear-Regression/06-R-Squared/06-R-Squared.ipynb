{
 "cells": [
  {
   "cell_type": "markdown",
   "metadata": {},
   "source": [
    "## 06 R Squared (R^2)\n",
    "\n",
    "#### RMSE 和 MAE 的问题\n",
    "* 分类问题可以比较：不同的问题，结果都在0~1这个区间\n",
    "* 回归问题：比如预测房价误差是1万元；预测成绩，误差是10分，哪个模型更准确呢？\n",
    "\n",
    "所以我们要统一这个比较水平\n",
    "\n",
    "![IMAGE](https://farm2.staticflickr.com/1734/42632427042_6ebd7df76d_o.png)\n",
    "![IMAGE](https://farm2.staticflickr.com/1732/27812357077_cf551d4e43_o.png)\n",
    "\n",
    "分母是一个比较「粗犷」的模型，分子是我们「比较精密」的模型\n",
    "![IMAGE](https://farm2.staticflickr.com/1728/27812468387_3ec4f989b5_o.png)\n",
    "\n",
    "> 它反映了我们的误差和平均值作为误差的相似程度，相似性越高，说明还不如用均值，模型越差。\n",
    "\n",
    "* R^2 <= 1\n",
    "\n",
    "* R^2 越大越好。当我们的预测模型不犯任何错误是，R^2 得到最大值 1\n",
    "> 若果 R^2 = 0，说明我们的模型和平均值作为的模型一样，所以太差了\n",
    "\n",
    "* 当我们的模型等于基准模型时，R^2 为 0 如果 R^2 <0，说明我们学习到的模型还不如基准模型。**此时，很有可能我们的数据不存在任何线性关系。**\n",
    "\n",
    "![IMAGE](https://farm2.staticflickr.com/1743/41962986584_d719bb469e_o.png)更好进行运算"
   ]
  },
  {
   "cell_type": "code",
   "execution_count": 1,
   "metadata": {
    "collapsed": true
   },
   "outputs": [],
   "source": [
    "import numpy as np\n",
    "import matplotlib.pyplot as plt\n",
    "from sklearn import datasets"
   ]
  },
  {
   "cell_type": "code",
   "execution_count": 2,
   "metadata": {
    "collapsed": true
   },
   "outputs": [],
   "source": [
    "boston = datasets.load_boston()\n",
    "x = boston.data[:,5] # 只使用房间数量这个特征\n",
    "y = boston.target\n",
    "\n",
    "x = x[y < 50.0]\n",
    "y = y[y < 50.0]"
   ]
  },
  {
   "cell_type": "code",
   "execution_count": 3,
   "metadata": {
    "collapsed": true
   },
   "outputs": [],
   "source": [
    "from playML.model_selection import train_test_split\n",
    "\n",
    "x_train, x_test, y_train, y_test = train_test_split(x, y, seed=666)"
   ]
  },
  {
   "cell_type": "code",
   "execution_count": 4,
   "metadata": {},
   "outputs": [
    {
     "data": {
      "text/plain": [
       "SimpleLinearRegression()"
      ]
     },
     "execution_count": 4,
     "metadata": {},
     "output_type": "execute_result"
    }
   ],
   "source": [
    "from playML.SimpleLinearRegression import SimpleLinearRegression\n",
    "\n",
    "reg = SimpleLinearRegression()\n",
    "reg.fit(x_train, y_train)"
   ]
  },
  {
   "cell_type": "code",
   "execution_count": 5,
   "metadata": {},
   "outputs": [
    {
     "data": {
      "text/plain": [
       "7.8608543562689563"
      ]
     },
     "execution_count": 5,
     "metadata": {},
     "output_type": "execute_result"
    }
   ],
   "source": [
    "reg.a_"
   ]
  },
  {
   "cell_type": "code",
   "execution_count": 6,
   "metadata": {},
   "outputs": [
    {
     "data": {
      "text/plain": [
       "-27.45934280670555"
      ]
     },
     "execution_count": 6,
     "metadata": {},
     "output_type": "execute_result"
    }
   ],
   "source": [
    "reg.b_"
   ]
  },
  {
   "cell_type": "code",
   "execution_count": 7,
   "metadata": {
    "collapsed": true
   },
   "outputs": [],
   "source": [
    "y_predict = reg.predict(x_test)"
   ]
  },
  {
   "cell_type": "markdown",
   "metadata": {},
   "source": [
    "### R Square"
   ]
  },
  {
   "cell_type": "code",
   "execution_count": 8,
   "metadata": {},
   "outputs": [
    {
     "data": {
      "text/plain": [
       "0.61293168039373236"
      ]
     },
     "execution_count": 8,
     "metadata": {},
     "output_type": "execute_result"
    }
   ],
   "source": [
    "from playML.metrics import mean_squared_error\n",
    "\n",
    "1 - mean_squared_error(y_test, y_predict)/np.var(y_test)"
   ]
  },
  {
   "cell_type": "markdown",
   "metadata": {},
   "source": [
    "### 封装我们自己的 R Score\n",
    "\n",
    "代码参见 [这里](playML/metrics.py) "
   ]
  },
  {
   "cell_type": "code",
   "execution_count": 9,
   "metadata": {},
   "outputs": [
    {
     "data": {
      "text/plain": [
       "0.61293168039373236"
      ]
     },
     "execution_count": 9,
     "metadata": {},
     "output_type": "execute_result"
    }
   ],
   "source": [
    "from playML.metrics import r2_score\n",
    "\n",
    "r2_score(y_test, y_predict)"
   ]
  },
  {
   "cell_type": "markdown",
   "metadata": {},
   "source": [
    "### scikit-learn中的 r2_score"
   ]
  },
  {
   "cell_type": "code",
   "execution_count": 10,
   "metadata": {},
   "outputs": [
    {
     "data": {
      "text/plain": [
       "0.61293168039373236"
      ]
     },
     "execution_count": 10,
     "metadata": {},
     "output_type": "execute_result"
    }
   ],
   "source": [
    "from sklearn.metrics import r2_score\n",
    "\n",
    "r2_score(y_test, y_predict)"
   ]
  },
  {
   "cell_type": "markdown",
   "metadata": {},
   "source": [
    "scikit-learn中的LinearRegression中的score返回r2_score:[http://scikit-learn.org/stable/modules/generated/sklearn.linear_model.LinearRegression.html](http://scikit-learn.org/stable/modules/generated/sklearn.linear_model.LinearRegression.html)"
   ]
  },
  {
   "cell_type": "markdown",
   "metadata": {},
   "source": [
    "### 在我们的SimpleRegression中添加score"
   ]
  },
  {
   "cell_type": "code",
   "execution_count": 11,
   "metadata": {},
   "outputs": [
    {
     "data": {
      "text/plain": [
       "0.61293168039373236"
      ]
     },
     "execution_count": 11,
     "metadata": {},
     "output_type": "execute_result"
    }
   ],
   "source": [
    "reg.score(x_test, y_test)"
   ]
  },
  {
   "cell_type": "markdown",
   "metadata": {},
   "source": [
    "# 关于可决系数R-Square\n",
    "\n",
    "\n",
    "首先定义一些概念：\n",
    "\n",
    "样本数据集： ![（x_1,y_1）,（x_2,y_2）,\\dots,（x_n,y_n）](https://www.zhihu.com/equation?tex=%EF%BC%88x_1%2Cy_1%EF%BC%89%2C%EF%BC%88x_2%2Cy_2%EF%BC%89%2C%5Cdots%2C%EF%BC%88x_n%2Cy_n%EF%BC%89)\n",
    "\n",
    "经模型计算得到的预测值: ![\\hat{y_1},\\hat{y_2},\\dots,\\hat{y_n}](https://www.zhihu.com/equation?tex=%5Chat%7By_1%7D%2C%5Chat%7By_2%7D%2C%5Cdots%2C%5Chat%7By_n%7D)\n",
    "\n",
    "- 观测数据均值： ![\\bar{y}=\\frac{1}{n}\\sum\\limits_{i=1}^ny_i](https://www.zhihu.com/equation?tex=%5Cbar%7By%7D%3D%5Cfrac%7B1%7D%7Bn%7D%5Csum%5Climits_%7Bi%3D1%7D%5Eny_i)\n",
    "- **残差**（residual）(与方差成比例)： ![e_i=y_i-\\hat{y_i}](https://www.zhihu.com/equation?tex=e_i%3Dy_i-%5Chat%7By_i%7D)\n",
    "- **总平方和**（total sum of squares）： ![SS_{tot}=\\sum_{i}(y_i-\\bar{y})^2](https://www.zhihu.com/equation?tex=SS_%7Btot%7D%3D%5Csum_%7Bi%7D%28y_i-%5Cbar%7By%7D%29%5E2)\n",
    "- **回归平方和，又称可解释平方和**（regression/explained sum of squares）: ![SS_{reg}=\\sum_{i}(\\hat{y_i}-\\bar{y})^2](https://www.zhihu.com/equation?tex=SS_%7Breg%7D%3D%5Csum_%7Bi%7D%28%5Chat%7By_i%7D-%5Cbar%7By%7D%29%5E2)\n",
    "- **残差平方和**（residual sum of squares）: ![SS_{res}=\\sum_{i}(y_i-\\hat{y_i})^2=\\sum_{i}e_i^2](https://www.zhihu.com/equation?tex=SS_%7Bres%7D%3D%5Csum_%7Bi%7D%28y_i-%5Chat%7By_i%7D%29%5E2%3D%5Csum_%7Bi%7De_i%5E2)\n",
    "\n",
    "知晓以上概念后，可决系数（coefficient of determination）的定义如下：\n",
    "\n",
    "![R^2=1-\\frac{SS_{res}}{SS_{tot}}](https://www.zhihu.com/equation?tex=R%5E2%3D1-%5Cfrac%7BSS_%7Bres%7D%7D%7BSS_%7Btot%7D%7D)\n",
    "\n",
    "![R^2](https://www.zhihu.com/equation?tex=R%5E2)为回归平方和与总平方和的比值，反映了自变量对因变量的可解释比例。\n",
    "\n",
    "例如 ![R^2=0.8](https://www.zhihu.com/equation?tex=R%5E2%3D0.8) ，表示自变量能够解释80%关于因变量的变化。"
   ]
  },
  {
   "cell_type": "code",
   "execution_count": null,
   "metadata": {},
   "outputs": [],
   "source": []
  }
 ],
 "metadata": {
  "kernelspec": {
   "display_name": "Python 3",
   "language": "python",
   "name": "python3"
  },
  "language_info": {
   "codemirror_mode": {
    "name": "ipython",
    "version": 3
   },
   "file_extension": ".py",
   "mimetype": "text/x-python",
   "name": "python",
   "nbconvert_exporter": "python",
   "pygments_lexer": "ipython3",
   "version": "3.5.4"
  }
 },
 "nbformat": 4,
 "nbformat_minor": 2
}
