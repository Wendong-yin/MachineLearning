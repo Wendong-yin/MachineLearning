{
 "cells": [
  {
   "cell_type": "markdown",
   "metadata": {},
   "source": [
    "## 07 数据归一化处理"
   ]
  },
  {
   "cell_type": "markdown",
   "metadata": {},
   "source": [
    "### 一、为什么使用归一化\n",
    "\n",
    "肿瘤大小和发现时间，单位不一样，他们的距离会被『发现时间』所主导，所以我们需要同一单位。\n",
    "![IMAGE](https://ws4.sinaimg.cn/large/006tKfTcly1fs6e46tf0tj30ro0eq0uw.jpg)\n",
    "\n",
    "如果时间换成年，数据又会被肿瘤大小所主宰\n",
    "![IMAGE](https://farm2.staticflickr.com/1748/42662935872_5edbaf2917_o.png)\n",
    "\n",
    "### 二、解决方案 \n",
    "#### 方案1 ： 最值归一化 Normlization\n",
    "![IMAGE](https://farm2.staticflickr.com/1722/42662943982_a983cf66ac_o.png)\n",
    "\n",
    "**适用范围：**\n",
    "* 适用于分布有明显边界的情况：比如学生的成绩，像素点\n",
    "* 受 outlier 的影响很大：比如收入，如果有一个亿万富翁，会把其他人的数据缩小很多倍。\n",
    "\n",
    "\n",
    "#### 方案二：均值方差归一化 Standarization\n",
    "![IMAGE](https://farm2.staticflickr.com/1746/42663001552_c6c4c1f8df_o.png)"
   ]
  },
  {
   "cell_type": "code",
   "execution_count": 2,
   "metadata": {
    "collapsed": true
   },
   "outputs": [],
   "source": [
    "import numpy as np\n",
    "import matplotlib.pyplot as plt"
   ]
  },
  {
   "cell_type": "markdown",
   "metadata": {},
   "source": [
    "### 三、归一化实现\n",
    "####  1 最值归一化 Normalization"
   ]
  },
  {
   "cell_type": "code",
   "execution_count": 3,
   "metadata": {
    "collapsed": true
   },
   "outputs": [],
   "source": [
    "x = np.random.randint(0, 100, 100) "
   ]
  },
  {
   "cell_type": "markdown",
   "metadata": {},
   "source": [
    "**| 对向量进行处理**"
   ]
  },
  {
   "cell_type": "code",
   "execution_count": 4,
   "metadata": {},
   "outputs": [
    {
     "data": {
      "text/plain": [
       "array([79, 12, 63, 90, 92,  3,  8, 54, 27, 12, 99, 89, 58, 70,  8, 40, 36,\n",
       "       80,  7, 82, 22, 31, 28, 55,  9, 79, 10, 30, 70, 29, 93, 50, 79, 30,\n",
       "       69,  8, 23, 39, 57, 84, 15, 85, 94, 12,  7, 61, 49, 59,  7,  1, 73,\n",
       "       91, 16,  2, 63, 63, 18,  8, 20, 76, 24, 96, 61, 55, 45,  3,  0, 18,\n",
       "       44,  7, 99,  5, 13, 10, 64,  6, 18, 23, 60, 22, 29,  5, 66, 98, 74,\n",
       "       46, 20,  6, 42, 42, 45, 21,  2,  0, 69, 17, 57, 73,  9, 43])"
      ]
     },
     "execution_count": 4,
     "metadata": {},
     "output_type": "execute_result"
    }
   ],
   "source": [
    "x"
   ]
  },
  {
   "cell_type": "code",
   "execution_count": 5,
   "metadata": {},
   "outputs": [
    {
     "data": {
      "text/plain": [
       "array([ 0.7979798 ,  0.12121212,  0.63636364,  0.90909091,  0.92929293,\n",
       "        0.03030303,  0.08080808,  0.54545455,  0.27272727,  0.12121212,\n",
       "        1.        ,  0.8989899 ,  0.58585859,  0.70707071,  0.08080808,\n",
       "        0.4040404 ,  0.36363636,  0.80808081,  0.07070707,  0.82828283,\n",
       "        0.22222222,  0.31313131,  0.28282828,  0.55555556,  0.09090909,\n",
       "        0.7979798 ,  0.1010101 ,  0.3030303 ,  0.70707071,  0.29292929,\n",
       "        0.93939394,  0.50505051,  0.7979798 ,  0.3030303 ,  0.6969697 ,\n",
       "        0.08080808,  0.23232323,  0.39393939,  0.57575758,  0.84848485,\n",
       "        0.15151515,  0.85858586,  0.94949495,  0.12121212,  0.07070707,\n",
       "        0.61616162,  0.49494949,  0.5959596 ,  0.07070707,  0.01010101,\n",
       "        0.73737374,  0.91919192,  0.16161616,  0.02020202,  0.63636364,\n",
       "        0.63636364,  0.18181818,  0.08080808,  0.2020202 ,  0.76767677,\n",
       "        0.24242424,  0.96969697,  0.61616162,  0.55555556,  0.45454545,\n",
       "        0.03030303,  0.        ,  0.18181818,  0.44444444,  0.07070707,\n",
       "        1.        ,  0.05050505,  0.13131313,  0.1010101 ,  0.64646465,\n",
       "        0.06060606,  0.18181818,  0.23232323,  0.60606061,  0.22222222,\n",
       "        0.29292929,  0.05050505,  0.66666667,  0.98989899,  0.74747475,\n",
       "        0.46464646,  0.2020202 ,  0.06060606,  0.42424242,  0.42424242,\n",
       "        0.45454545,  0.21212121,  0.02020202,  0.        ,  0.6969697 ,\n",
       "        0.17171717,  0.57575758,  0.73737374,  0.09090909,  0.43434343])"
      ]
     },
     "execution_count": 5,
     "metadata": {},
     "output_type": "execute_result"
    }
   ],
   "source": [
    "(x - np.min(x)) / (np.max(x) - np.min(x))"
   ]
  },
  {
   "cell_type": "markdown",
   "metadata": {},
   "source": [
    "**| 对矩阵进行处理**"
   ]
  },
  {
   "cell_type": "code",
   "execution_count": 6,
   "metadata": {
    "collapsed": true
   },
   "outputs": [],
   "source": [
    "X = np.random.randint(0, 100, (50, 2))"
   ]
  },
  {
   "cell_type": "markdown",
   "metadata": {},
   "source": [
    "因为 Normalization 之后会有小数出现，所以我们要转化类型"
   ]
  },
  {
   "cell_type": "code",
   "execution_count": 7,
   "metadata": {
    "collapsed": true
   },
   "outputs": [],
   "source": [
    "X = np.array(X, dtype=float)"
   ]
  },
  {
   "cell_type": "code",
   "execution_count": 8,
   "metadata": {},
   "outputs": [
    {
     "data": {
      "text/plain": [
       "array([[ 54.,  68.],\n",
       "       [ 69.,  96.],\n",
       "       [  0.,  81.],\n",
       "       [ 57.,  29.],\n",
       "       [  9.,  44.],\n",
       "       [  9.,  59.],\n",
       "       [ 57.,  86.],\n",
       "       [ 37.,   2.],\n",
       "       [ 50.,  89.],\n",
       "       [ 38.,  48.]])"
      ]
     },
     "execution_count": 8,
     "metadata": {},
     "output_type": "execute_result"
    }
   ],
   "source": [
    "X[:10,:]"
   ]
  },
  {
   "cell_type": "markdown",
   "metadata": {},
   "source": [
    "#### 取每一列feature 的最大值和最小值"
   ]
  },
  {
   "cell_type": "code",
   "execution_count": 9,
   "metadata": {
    "collapsed": true
   },
   "outputs": [],
   "source": [
    "X[:,0] = (X[:,0] - np.min(X[:,0])) / (np.max(X[:,0]) - np.min(X[:,0]))\n",
    "X[:,1] = (X[:,1] - np.min(X[:,1])) / (np.max(X[:,1]) - np.min(X[:,1]))"
   ]
  },
  {
   "cell_type": "code",
   "execution_count": 10,
   "metadata": {},
   "outputs": [
    {
     "data": {
      "text/plain": [
       "array([[ 0.55102041,  0.70212766],\n",
       "       [ 0.70408163,  1.        ],\n",
       "       [ 0.        ,  0.84042553],\n",
       "       [ 0.58163265,  0.28723404],\n",
       "       [ 0.09183673,  0.44680851],\n",
       "       [ 0.09183673,  0.60638298],\n",
       "       [ 0.58163265,  0.89361702],\n",
       "       [ 0.37755102,  0.        ],\n",
       "       [ 0.51020408,  0.92553191],\n",
       "       [ 0.3877551 ,  0.4893617 ]])"
      ]
     },
     "execution_count": 10,
     "metadata": {},
     "output_type": "execute_result"
    }
   ],
   "source": [
    "X[:10,:]"
   ]
  },
  {
   "cell_type": "code",
   "execution_count": 11,
   "metadata": {},
   "outputs": [
    {
     "data": {
      "image/png": "[encoded data removed]",
      "text/plain": [
       "<matplotlib.figure.Figure at 0x10b841668>"
      ]
     },
     "metadata": {},
     "output_type": "display_data"
    }
   ],
   "source": [
    "plt.scatter(X[:,0], X[:,1])\n",
    "plt.show()"
   ]
  },
  {
   "cell_type": "code",
   "execution_count": 12,
   "metadata": {},
   "outputs": [
    {
     "data": {
      "text/plain": [
       "0.48959183673469381"
      ]
     },
     "execution_count": 12,
     "metadata": {},
     "output_type": "execute_result"
    }
   ],
   "source": [
    "np.mean(X[:,0])"
   ]
  },
  {
   "cell_type": "code",
   "execution_count": 13,
   "metadata": {},
   "outputs": [
    {
     "data": {
      "text/plain": [
       "0.28488575203366484"
      ]
     },
     "execution_count": 13,
     "metadata": {},
     "output_type": "execute_result"
    }
   ],
   "source": [
    "np.std(X[:,0])"
   ]
  },
  {
   "cell_type": "code",
   "execution_count": 14,
   "metadata": {},
   "outputs": [
    {
     "data": {
      "text/plain": [
       "0.53276595744680844"
      ]
     },
     "execution_count": 14,
     "metadata": {},
     "output_type": "execute_result"
    }
   ],
   "source": [
    "np.mean(X[:,1])"
   ]
  },
  {
   "cell_type": "code",
   "execution_count": 15,
   "metadata": {},
   "outputs": [
    {
     "data": {
      "text/plain": [
       "0.2759635984156617"
      ]
     },
     "execution_count": 15,
     "metadata": {},
     "output_type": "execute_result"
    }
   ],
   "source": [
    "np.std(X[:,1])"
   ]
  },
  {
   "cell_type": "markdown",
   "metadata": {},
   "source": [
    "#### 2 均值方差归一化 Standardization"
   ]
  },
  {
   "cell_type": "code",
   "execution_count": 16,
   "metadata": {
    "collapsed": true
   },
   "outputs": [],
   "source": [
    "X2 = np.random.randint(0, 100, (50, 2))"
   ]
  },
  {
   "cell_type": "code",
   "execution_count": 17,
   "metadata": {
    "collapsed": true
   },
   "outputs": [],
   "source": [
    "X2 = np.array(X2, dtype=float)"
   ]
  },
  {
   "cell_type": "code",
   "execution_count": 18,
   "metadata": {},
   "outputs": [
    {
     "data": {
      "text/plain": [
       "array([[ 57.,   4.],\n",
       "       [ 44.,   3.],\n",
       "       [ 20.,  21.],\n",
       "       [  1.,  63.],\n",
       "       [  1.,  81.],\n",
       "       [ 95.,  18.],\n",
       "       [ 64.,  10.],\n",
       "       [ 59.,  75.],\n",
       "       [ 68.,  59.],\n",
       "       [ 64.,  13.]])"
      ]
     },
     "execution_count": 18,
     "metadata": {},
     "output_type": "execute_result"
    }
   ],
   "source": [
    "X2[:10,:]"
   ]
  },
  {
   "cell_type": "code",
   "execution_count": 19,
   "metadata": {
    "collapsed": true
   },
   "outputs": [],
   "source": [
    "X2[:,0] = (X2[:,0] - np.mean(X2[:,0])) / np.std(X2[:,0])\n",
    "X2[:,1] = (X2[:,1] - np.mean(X2[:,1])) / np.std(X2[:,1])"
   ]
  },
  {
   "cell_type": "code",
   "execution_count": 20,
   "metadata": {},
   "outputs": [
    {
     "data": {
      "image/png": "[encoded data removed]",
      "text/plain": [
       "<matplotlib.figure.Figure at 0x10b841f28>"
      ]
     },
     "metadata": {},
     "output_type": "display_data"
    }
   ],
   "source": [
    "plt.scatter(X2[:,0], X2[:,1])\n",
    "plt.show()"
   ]
  },
  {
   "cell_type": "markdown",
   "metadata": {},
   "source": [
    "注意这个图横纵总表的范围并不是[-1,1]"
   ]
  },
  {
   "cell_type": "code",
   "execution_count": 21,
   "metadata": {},
   "outputs": [
    {
     "data": {
      "text/plain": [
       "-2.5535129566378602e-17"
      ]
     },
     "execution_count": 21,
     "metadata": {},
     "output_type": "execute_result"
    }
   ],
   "source": [
    "np.mean(X2[:,0])"
   ]
  },
  {
   "cell_type": "code",
   "execution_count": 22,
   "metadata": {},
   "outputs": [
    {
     "data": {
      "text/plain": [
       "1.0"
      ]
     },
     "execution_count": 22,
     "metadata": {},
     "output_type": "execute_result"
    }
   ],
   "source": [
    "np.std(X2[:,0])"
   ]
  },
  {
   "cell_type": "code",
   "execution_count": 23,
   "metadata": {},
   "outputs": [
    {
     "data": {
      "text/plain": [
       "-4.4408920985006264e-17"
      ]
     },
     "execution_count": 23,
     "metadata": {},
     "output_type": "execute_result"
    }
   ],
   "source": [
    "np.mean(X2[:,1])"
   ]
  },
  {
   "cell_type": "code",
   "execution_count": 24,
   "metadata": {},
   "outputs": [
    {
     "data": {
      "text/plain": [
       "1.0"
      ]
     },
     "execution_count": 24,
     "metadata": {},
     "output_type": "execute_result"
    }
   ],
   "source": [
    "np.std(X2[:,1])"
   ]
  },
  {
   "cell_type": "markdown",
   "metadata": {},
   "source": [
    "我们可以看出，平均值都是0左右，标准差为1左右，大部分数据在2个标准差之内。"
   ]
  },
  {
   "cell_type": "code",
   "execution_count": null,
   "metadata": {
    "collapsed": true
   },
   "outputs": [],
   "source": []
  }
 ],
 "metadata": {
  "kernelspec": {
   "display_name": "Python 3",
   "language": "python",
   "name": "python3"
  },
  "language_info": {
   "codemirror_mode": {
    "name": "ipython",
    "version": 3
   },
   "file_extension": ".py",
   "mimetype": "text/x-python",
   "name": "python",
   "nbconvert_exporter": "python",
   "pygments_lexer": "ipython3",
   "version": "3.6.3"
  }
 },
 "nbformat": 4,
 "nbformat_minor": 2
}
